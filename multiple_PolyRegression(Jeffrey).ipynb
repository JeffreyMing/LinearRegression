{
 "cells": [
  {
   "cell_type": "markdown",
   "metadata": {},
   "source": [
    "### 資料來源：政府開放資料平台 - 不動產買賣實價登錄批次資料 (http://data.gov.tw/node/6213) - 台北市資料"
   ]
  },
  {
   "cell_type": "markdown",
   "metadata": {},
   "source": [
    "# 一、資料匯入"
   ]
  },
  {
   "cell_type": "code",
   "execution_count": 1,
   "metadata": {},
   "outputs": [
    {
     "data": {
      "text/html": [
       "<div>\n",
       "<style scoped>\n",
       "    .dataframe tbody tr th:only-of-type {\n",
       "        vertical-align: middle;\n",
       "    }\n",
       "\n",
       "    .dataframe tbody tr th {\n",
       "        vertical-align: top;\n",
       "    }\n",
       "\n",
       "    .dataframe thead th {\n",
       "        text-align: right;\n",
       "    }\n",
       "</style>\n",
       "<table border=\"1\" class=\"dataframe\">\n",
       "  <thead>\n",
       "    <tr style=\"text-align: right;\">\n",
       "      <th></th>\n",
       "      <th>鄉鎮市區</th>\n",
       "      <th>交易標的</th>\n",
       "      <th>土地區段位置或建物區門牌</th>\n",
       "      <th>土地移轉總面積平方公尺</th>\n",
       "      <th>都市土地使用分區</th>\n",
       "      <th>非都市土地使用分區</th>\n",
       "      <th>非都市土地使用編定</th>\n",
       "      <th>交易年月日</th>\n",
       "      <th>交易筆棟數</th>\n",
       "      <th>移轉層次</th>\n",
       "      <th>總樓層數</th>\n",
       "      <th>建物型態</th>\n",
       "      <th>主要用途</th>\n",
       "      <th>主要建材</th>\n",
       "      <th>建築完成年月</th>\n",
       "      <th>建物移轉總面積平方公尺</th>\n",
       "      <th>建物現況格局-房</th>\n",
       "      <th>建物現況格局-廳</th>\n",
       "      <th>建物現況格局-衛</th>\n",
       "      <th>建物現況格局-隔間</th>\n",
       "      <th>有無管理組織</th>\n",
       "      <th>總價元</th>\n",
       "      <th>單價每平方公尺</th>\n",
       "      <th>車位類別</th>\n",
       "      <th>車位移轉總面積平方公尺</th>\n",
       "      <th>車位總價元</th>\n",
       "      <th>備註</th>\n",
       "      <th>編號</th>\n",
       "    </tr>\n",
       "  </thead>\n",
       "  <tbody>\n",
       "    <tr>\n",
       "      <th>0</th>\n",
       "      <td>大同區</td>\n",
       "      <td>房地(土地+建物)</td>\n",
       "      <td>臺北市大同區南京西路91~120號</td>\n",
       "      <td>6.34</td>\n",
       "      <td>住</td>\n",
       "      <td>NaN</td>\n",
       "      <td>NaN</td>\n",
       "      <td>1040303</td>\n",
       "      <td>土地1建物1車位0</td>\n",
       "      <td>八層</td>\n",
       "      <td>十一層</td>\n",
       "      <td>住宅大樓(11層含以上有電梯)</td>\n",
       "      <td>商業用</td>\n",
       "      <td>鋼筋混凝土造</td>\n",
       "      <td>831111.0</td>\n",
       "      <td>55.19</td>\n",
       "      <td>1</td>\n",
       "      <td>1</td>\n",
       "      <td>1</td>\n",
       "      <td>有</td>\n",
       "      <td>有</td>\n",
       "      <td>12900000</td>\n",
       "      <td>233738.0</td>\n",
       "      <td>NaN</td>\n",
       "      <td>0.0</td>\n",
       "      <td>0</td>\n",
       "      <td>NaN</td>\n",
       "      <td>RPPOMLMKPHMFFBA57CA</td>\n",
       "    </tr>\n",
       "    <tr>\n",
       "      <th>1</th>\n",
       "      <td>內湖區</td>\n",
       "      <td>房地(土地+建物)</td>\n",
       "      <td>臺北市內湖區康樂街136巷3弄1~30號</td>\n",
       "      <td>4.96</td>\n",
       "      <td>商</td>\n",
       "      <td>NaN</td>\n",
       "      <td>NaN</td>\n",
       "      <td>1050817</td>\n",
       "      <td>土地1建物1車位0</td>\n",
       "      <td>二層</td>\n",
       "      <td>九層</td>\n",
       "      <td>華廈(10層含以下有電梯)</td>\n",
       "      <td>商業用</td>\n",
       "      <td>鋼筋混凝土造</td>\n",
       "      <td>850705.0</td>\n",
       "      <td>38.79</td>\n",
       "      <td>1</td>\n",
       "      <td>1</td>\n",
       "      <td>1</td>\n",
       "      <td>有</td>\n",
       "      <td>有</td>\n",
       "      <td>4300000</td>\n",
       "      <td>110853.0</td>\n",
       "      <td>NaN</td>\n",
       "      <td>0.0</td>\n",
       "      <td>0</td>\n",
       "      <td>NaN</td>\n",
       "      <td>RPSNMLTJRHLFFCA58CA</td>\n",
       "    </tr>\n",
       "  </tbody>\n",
       "</table>\n",
       "</div>"
      ],
      "text/plain": [
       "  鄉鎮市區       交易標的          土地區段位置或建物區門牌  土地移轉總面積平方公尺 都市土地使用分區  非都市土地使用分區  \\\n",
       "0  大同區  房地(土地+建物)     臺北市大同區南京西路91~120號         6.34        住        NaN   \n",
       "1  內湖區  房地(土地+建物)  臺北市內湖區康樂街136巷3弄1~30號         4.96        商        NaN   \n",
       "\n",
       "   非都市土地使用編定    交易年月日      交易筆棟數 移轉層次 總樓層數             建物型態 主要用途    主要建材  \\\n",
       "0        NaN  1040303  土地1建物1車位0   八層  十一層  住宅大樓(11層含以上有電梯)  商業用  鋼筋混凝土造   \n",
       "1        NaN  1050817  土地1建物1車位0   二層   九層    華廈(10層含以下有電梯)  商業用  鋼筋混凝土造   \n",
       "\n",
       "     建築完成年月  建物移轉總面積平方公尺  建物現況格局-房  建物現況格局-廳  建物現況格局-衛 建物現況格局-隔間 有無管理組織  \\\n",
       "0  831111.0        55.19         1         1         1         有      有   \n",
       "1  850705.0        38.79         1         1         1         有      有   \n",
       "\n",
       "        總價元   單價每平方公尺 車位類別  車位移轉總面積平方公尺  車位總價元   備註                   編號  \n",
       "0  12900000  233738.0  NaN          0.0      0  NaN  RPPOMLMKPHMFFBA57CA  \n",
       "1   4300000  110853.0  NaN          0.0      0  NaN  RPSNMLTJRHLFFCA58CA  "
      ]
     },
     "execution_count": 1,
     "metadata": {},
     "output_type": "execute_result"
    }
   ],
   "source": [
    "import numpy as np\n",
    "import pandas as pd\n",
    "import matplotlib.pyplot as plt\n",
    "\n",
    "%matplotlib inline\n",
    "\n",
    "plt.style.use('ggplot')\n",
    "plt.rcParams['font.family']='DFKai-SB' #顯示中文 (for Win10)\n",
    "plt.rcParams['axes.unicode_minus']=False #正常顯示負號\n",
    "\n",
    "pd.set_option(\"display.max_columns\",50) #設定pandas最多顯示出50個欄位資訊\n",
    "\n",
    "df = pd.read_csv('A_LVR_LAND_A.csv', encoding='big5')\n",
    "df[:2]"
   ]
  },
  {
   "cell_type": "markdown",
   "metadata": {},
   "source": [
    "# 二、資料預處理(一)"
   ]
  },
  {
   "cell_type": "markdown",
   "metadata": {},
   "source": [
    "## 2.1 交易標的:非土地、車位交易"
   ]
  },
  {
   "cell_type": "code",
   "execution_count": 2,
   "metadata": {},
   "outputs": [
    {
     "data": {
      "text/html": [
       "<div>\n",
       "<style scoped>\n",
       "    .dataframe tbody tr th:only-of-type {\n",
       "        vertical-align: middle;\n",
       "    }\n",
       "\n",
       "    .dataframe tbody tr th {\n",
       "        vertical-align: top;\n",
       "    }\n",
       "\n",
       "    .dataframe thead th {\n",
       "        text-align: right;\n",
       "    }\n",
       "</style>\n",
       "<table border=\"1\" class=\"dataframe\">\n",
       "  <thead>\n",
       "    <tr style=\"text-align: right;\">\n",
       "      <th></th>\n",
       "      <th>土地移轉總面積平方公尺</th>\n",
       "      <th>非都市土地使用分區</th>\n",
       "      <th>非都市土地使用編定</th>\n",
       "      <th>交易年月日</th>\n",
       "      <th>建築完成年月</th>\n",
       "      <th>建物移轉總面積平方公尺</th>\n",
       "      <th>建物現況格局-房</th>\n",
       "      <th>建物現況格局-廳</th>\n",
       "      <th>建物現況格局-衛</th>\n",
       "      <th>總價元</th>\n",
       "      <th>單價每平方公尺</th>\n",
       "      <th>車位移轉總面積平方公尺</th>\n",
       "      <th>車位總價元</th>\n",
       "    </tr>\n",
       "    <tr>\n",
       "      <th>交易標的</th>\n",
       "      <th></th>\n",
       "      <th></th>\n",
       "      <th></th>\n",
       "      <th></th>\n",
       "      <th></th>\n",
       "      <th></th>\n",
       "      <th></th>\n",
       "      <th></th>\n",
       "      <th></th>\n",
       "      <th></th>\n",
       "      <th></th>\n",
       "      <th></th>\n",
       "      <th></th>\n",
       "    </tr>\n",
       "  </thead>\n",
       "  <tbody>\n",
       "    <tr>\n",
       "      <th>土地</th>\n",
       "      <td>215.995593</td>\n",
       "      <td>NaN</td>\n",
       "      <td>NaN</td>\n",
       "      <td>1.059181e+06</td>\n",
       "      <td>NaN</td>\n",
       "      <td>0.000000</td>\n",
       "      <td>0.000000</td>\n",
       "      <td>0.000000</td>\n",
       "      <td>0.000000</td>\n",
       "      <td>7.343879e+06</td>\n",
       "      <td>123041.372881</td>\n",
       "      <td>0.000000</td>\n",
       "      <td>0.000000e+00</td>\n",
       "    </tr>\n",
       "    <tr>\n",
       "      <th>建物</th>\n",
       "      <td>0.000000</td>\n",
       "      <td>NaN</td>\n",
       "      <td>NaN</td>\n",
       "      <td>1.054469e+06</td>\n",
       "      <td>941057.222222</td>\n",
       "      <td>80.709000</td>\n",
       "      <td>1.000000</td>\n",
       "      <td>0.600000</td>\n",
       "      <td>1.100000</td>\n",
       "      <td>5.636200e+06</td>\n",
       "      <td>82164.800000</td>\n",
       "      <td>0.000000</td>\n",
       "      <td>0.000000e+00</td>\n",
       "    </tr>\n",
       "    <tr>\n",
       "      <th>房地(土地+建物)</th>\n",
       "      <td>22.567617</td>\n",
       "      <td>NaN</td>\n",
       "      <td>NaN</td>\n",
       "      <td>1.059772e+06</td>\n",
       "      <td>765348.258373</td>\n",
       "      <td>86.596289</td>\n",
       "      <td>2.189453</td>\n",
       "      <td>1.447266</td>\n",
       "      <td>1.380859</td>\n",
       "      <td>1.472509e+07</td>\n",
       "      <td>166718.550781</td>\n",
       "      <td>0.000000</td>\n",
       "      <td>0.000000e+00</td>\n",
       "    </tr>\n",
       "    <tr>\n",
       "      <th>房地(土地+建物)+車位</th>\n",
       "      <td>36.521667</td>\n",
       "      <td>NaN</td>\n",
       "      <td>NaN</td>\n",
       "      <td>1.058768e+06</td>\n",
       "      <td>967275.413953</td>\n",
       "      <td>228.741806</td>\n",
       "      <td>2.430556</td>\n",
       "      <td>1.504630</td>\n",
       "      <td>1.597222</td>\n",
       "      <td>4.283112e+07</td>\n",
       "      <td>191406.018605</td>\n",
       "      <td>34.382361</td>\n",
       "      <td>1.393102e+06</td>\n",
       "    </tr>\n",
       "    <tr>\n",
       "      <th>車位</th>\n",
       "      <td>2.486136</td>\n",
       "      <td>NaN</td>\n",
       "      <td>NaN</td>\n",
       "      <td>1.060058e+06</td>\n",
       "      <td>908492.702703</td>\n",
       "      <td>41.700682</td>\n",
       "      <td>0.000000</td>\n",
       "      <td>0.000000</td>\n",
       "      <td>0.000000</td>\n",
       "      <td>2.502386e+06</td>\n",
       "      <td>NaN</td>\n",
       "      <td>30.595227</td>\n",
       "      <td>2.368295e+06</td>\n",
       "    </tr>\n",
       "  </tbody>\n",
       "</table>\n",
       "</div>"
      ],
      "text/plain": [
       "              土地移轉總面積平方公尺  非都市土地使用分區  非都市土地使用編定         交易年月日         建築完成年月  \\\n",
       "交易標的                                                                           \n",
       "土地             215.995593        NaN        NaN  1.059181e+06            NaN   \n",
       "建物               0.000000        NaN        NaN  1.054469e+06  941057.222222   \n",
       "房地(土地+建物)       22.567617        NaN        NaN  1.059772e+06  765348.258373   \n",
       "房地(土地+建物)+車位    36.521667        NaN        NaN  1.058768e+06  967275.413953   \n",
       "車位               2.486136        NaN        NaN  1.060058e+06  908492.702703   \n",
       "\n",
       "              建物移轉總面積平方公尺  建物現況格局-房  建物現況格局-廳  建物現況格局-衛           總價元  \\\n",
       "交易標的                                                                    \n",
       "土地               0.000000  0.000000  0.000000  0.000000  7.343879e+06   \n",
       "建物              80.709000  1.000000  0.600000  1.100000  5.636200e+06   \n",
       "房地(土地+建物)       86.596289  2.189453  1.447266  1.380859  1.472509e+07   \n",
       "房地(土地+建物)+車位   228.741806  2.430556  1.504630  1.597222  4.283112e+07   \n",
       "車位              41.700682  0.000000  0.000000  0.000000  2.502386e+06   \n",
       "\n",
       "                    單價每平方公尺  車位移轉總面積平方公尺         車位總價元  \n",
       "交易標的                                                    \n",
       "土地            123041.372881     0.000000  0.000000e+00  \n",
       "建物             82164.800000     0.000000  0.000000e+00  \n",
       "房地(土地+建物)     166718.550781     0.000000  0.000000e+00  \n",
       "房地(土地+建物)+車位  191406.018605    34.382361  1.393102e+06  \n",
       "車位                      NaN    30.595227  2.368295e+06  "
      ]
     },
     "execution_count": 2,
     "metadata": {},
     "output_type": "execute_result"
    }
   ],
   "source": [
    "df.groupby('交易標的').mean()"
   ]
  },
  {
   "cell_type": "code",
   "execution_count": 3,
   "metadata": {},
   "outputs": [],
   "source": [
    "# 去除土地和車位兩種交易資料\n",
    "df = df[(df['交易標的']!='土地') & (df['交易標的']!='車位')].reset_index(drop=True)"
   ]
  },
  {
   "cell_type": "code",
   "execution_count": 4,
   "metadata": {},
   "outputs": [],
   "source": [
    "df.loc[:,'總價元'] = df.loc[:,'總價元']/10000"
   ]
  },
  {
   "cell_type": "code",
   "execution_count": 5,
   "metadata": {},
   "outputs": [
    {
     "data": {
      "text/html": [
       "<div>\n",
       "<style scoped>\n",
       "    .dataframe tbody tr th:only-of-type {\n",
       "        vertical-align: middle;\n",
       "    }\n",
       "\n",
       "    .dataframe tbody tr th {\n",
       "        vertical-align: top;\n",
       "    }\n",
       "\n",
       "    .dataframe thead th {\n",
       "        text-align: right;\n",
       "    }\n",
       "</style>\n",
       "<table border=\"1\" class=\"dataframe\">\n",
       "  <thead>\n",
       "    <tr style=\"text-align: right;\">\n",
       "      <th></th>\n",
       "      <th>土地移轉總面積平方公尺</th>\n",
       "      <th>非都市土地使用分區</th>\n",
       "      <th>非都市土地使用編定</th>\n",
       "      <th>交易年月日</th>\n",
       "      <th>建築完成年月</th>\n",
       "      <th>建物移轉總面積平方公尺</th>\n",
       "      <th>建物現況格局-房</th>\n",
       "      <th>建物現況格局-廳</th>\n",
       "      <th>建物現況格局-衛</th>\n",
       "      <th>總價元</th>\n",
       "      <th>單價每平方公尺</th>\n",
       "      <th>車位移轉總面積平方公尺</th>\n",
       "      <th>車位總價元</th>\n",
       "    </tr>\n",
       "    <tr>\n",
       "      <th>交易標的</th>\n",
       "      <th></th>\n",
       "      <th></th>\n",
       "      <th></th>\n",
       "      <th></th>\n",
       "      <th></th>\n",
       "      <th></th>\n",
       "      <th></th>\n",
       "      <th></th>\n",
       "      <th></th>\n",
       "      <th></th>\n",
       "      <th></th>\n",
       "      <th></th>\n",
       "      <th></th>\n",
       "    </tr>\n",
       "  </thead>\n",
       "  <tbody>\n",
       "    <tr>\n",
       "      <th>建物</th>\n",
       "      <td>0.000000</td>\n",
       "      <td>NaN</td>\n",
       "      <td>NaN</td>\n",
       "      <td>1.054469e+06</td>\n",
       "      <td>941057.222222</td>\n",
       "      <td>80.709000</td>\n",
       "      <td>1.000000</td>\n",
       "      <td>0.600000</td>\n",
       "      <td>1.100000</td>\n",
       "      <td>563.620000</td>\n",
       "      <td>82164.800000</td>\n",
       "      <td>0.000000</td>\n",
       "      <td>0.000000e+00</td>\n",
       "    </tr>\n",
       "    <tr>\n",
       "      <th>房地(土地+建物)</th>\n",
       "      <td>22.567617</td>\n",
       "      <td>NaN</td>\n",
       "      <td>NaN</td>\n",
       "      <td>1.059772e+06</td>\n",
       "      <td>765348.258373</td>\n",
       "      <td>86.596289</td>\n",
       "      <td>2.189453</td>\n",
       "      <td>1.447266</td>\n",
       "      <td>1.380859</td>\n",
       "      <td>1472.509301</td>\n",
       "      <td>166718.550781</td>\n",
       "      <td>0.000000</td>\n",
       "      <td>0.000000e+00</td>\n",
       "    </tr>\n",
       "    <tr>\n",
       "      <th>房地(土地+建物)+車位</th>\n",
       "      <td>36.521667</td>\n",
       "      <td>NaN</td>\n",
       "      <td>NaN</td>\n",
       "      <td>1.058768e+06</td>\n",
       "      <td>967275.413953</td>\n",
       "      <td>228.741806</td>\n",
       "      <td>2.430556</td>\n",
       "      <td>1.504630</td>\n",
       "      <td>1.597222</td>\n",
       "      <td>4283.111866</td>\n",
       "      <td>191406.018605</td>\n",
       "      <td>34.382361</td>\n",
       "      <td>1.393102e+06</td>\n",
       "    </tr>\n",
       "  </tbody>\n",
       "</table>\n",
       "</div>"
      ],
      "text/plain": [
       "              土地移轉總面積平方公尺  非都市土地使用分區  非都市土地使用編定         交易年月日         建築完成年月  \\\n",
       "交易標的                                                                           \n",
       "建物               0.000000        NaN        NaN  1.054469e+06  941057.222222   \n",
       "房地(土地+建物)       22.567617        NaN        NaN  1.059772e+06  765348.258373   \n",
       "房地(土地+建物)+車位    36.521667        NaN        NaN  1.058768e+06  967275.413953   \n",
       "\n",
       "              建物移轉總面積平方公尺  建物現況格局-房  建物現況格局-廳  建物現況格局-衛          總價元  \\\n",
       "交易標的                                                                   \n",
       "建物              80.709000  1.000000  0.600000  1.100000   563.620000   \n",
       "房地(土地+建物)       86.596289  2.189453  1.447266  1.380859  1472.509301   \n",
       "房地(土地+建物)+車位   228.741806  2.430556  1.504630  1.597222  4283.111866   \n",
       "\n",
       "                    單價每平方公尺  車位移轉總面積平方公尺         車位總價元  \n",
       "交易標的                                                    \n",
       "建物             82164.800000     0.000000  0.000000e+00  \n",
       "房地(土地+建物)     166718.550781     0.000000  0.000000e+00  \n",
       "房地(土地+建物)+車位  191406.018605    34.382361  1.393102e+06  "
      ]
     },
     "execution_count": 5,
     "metadata": {},
     "output_type": "execute_result"
    }
   ],
   "source": [
    "df.groupby('交易標的').mean()"
   ]
  },
  {
   "cell_type": "markdown",
   "metadata": {},
   "source": [
    "## 2.2 產生特徵：交易年/屋齡"
   ]
  },
  {
   "cell_type": "code",
   "execution_count": 6,
   "metadata": {},
   "outputs": [
    {
     "name": "stdout",
     "output_type": "stream",
     "text": [
      "1040303\n",
      "<class 'numpy.int64'>\n"
     ]
    }
   ],
   "source": [
    "print(df.loc[0,'交易年月日'])\n",
    "print(type(df.loc[0,'交易年月日']))"
   ]
  },
  {
   "cell_type": "code",
   "execution_count": 7,
   "metadata": {},
   "outputs": [],
   "source": [
    "#新增交易年欄位\n",
    "for i in range(len(df)):\n",
    "    df.loc[i,'交易年'] = round(df.loc[i,'交易年月日']/10000)"
   ]
  },
  {
   "cell_type": "code",
   "execution_count": 8,
   "metadata": {},
   "outputs": [
    {
     "data": {
      "text/plain": [
       "2019"
      ]
     },
     "execution_count": 8,
     "metadata": {},
     "output_type": "execute_result"
    }
   ],
   "source": [
    "from datetime import datetime\n",
    "now = datetime.now()\n",
    "now.year"
   ]
  },
  {
   "cell_type": "code",
   "execution_count": 9,
   "metadata": {},
   "outputs": [],
   "source": [
    "#新增屋齡欄位\n",
    "for i in range(len(df)):\n",
    "    df.loc[i,'建築完成年'] = round(df.loc[i,'建築完成年月']/10000)\n",
    "    df.loc[i, '屋齡'] = now.year - (1911 + round(df.loc[i,'建築完成年月']/10000))"
   ]
  },
  {
   "cell_type": "code",
   "execution_count": 10,
   "metadata": {},
   "outputs": [
    {
     "data": {
      "text/html": [
       "<div>\n",
       "<style scoped>\n",
       "    .dataframe tbody tr th:only-of-type {\n",
       "        vertical-align: middle;\n",
       "    }\n",
       "\n",
       "    .dataframe tbody tr th {\n",
       "        vertical-align: top;\n",
       "    }\n",
       "\n",
       "    .dataframe thead th {\n",
       "        text-align: right;\n",
       "    }\n",
       "</style>\n",
       "<table border=\"1\" class=\"dataframe\">\n",
       "  <thead>\n",
       "    <tr style=\"text-align: right;\">\n",
       "      <th></th>\n",
       "      <th>鄉鎮市區</th>\n",
       "      <th>交易標的</th>\n",
       "      <th>土地區段位置或建物區門牌</th>\n",
       "      <th>土地移轉總面積平方公尺</th>\n",
       "      <th>都市土地使用分區</th>\n",
       "      <th>非都市土地使用分區</th>\n",
       "      <th>非都市土地使用編定</th>\n",
       "      <th>交易年月日</th>\n",
       "      <th>交易筆棟數</th>\n",
       "      <th>移轉層次</th>\n",
       "      <th>總樓層數</th>\n",
       "      <th>建物型態</th>\n",
       "      <th>主要用途</th>\n",
       "      <th>主要建材</th>\n",
       "      <th>建築完成年月</th>\n",
       "      <th>建物移轉總面積平方公尺</th>\n",
       "      <th>建物現況格局-房</th>\n",
       "      <th>建物現況格局-廳</th>\n",
       "      <th>建物現況格局-衛</th>\n",
       "      <th>建物現況格局-隔間</th>\n",
       "      <th>有無管理組織</th>\n",
       "      <th>總價元</th>\n",
       "      <th>單價每平方公尺</th>\n",
       "      <th>車位類別</th>\n",
       "      <th>車位移轉總面積平方公尺</th>\n",
       "      <th>車位總價元</th>\n",
       "      <th>備註</th>\n",
       "      <th>編號</th>\n",
       "      <th>交易年</th>\n",
       "      <th>建築完成年</th>\n",
       "      <th>屋齡</th>\n",
       "    </tr>\n",
       "  </thead>\n",
       "  <tbody>\n",
       "    <tr>\n",
       "      <th>500</th>\n",
       "      <td>中山區</td>\n",
       "      <td>房地(土地+建物)</td>\n",
       "      <td>臺北市中山區新生北路二段91~120號</td>\n",
       "      <td>3.1</td>\n",
       "      <td>商</td>\n",
       "      <td>NaN</td>\n",
       "      <td>NaN</td>\n",
       "      <td>1060519</td>\n",
       "      <td>土地1建物1車位0</td>\n",
       "      <td>九層</td>\n",
       "      <td>十四層</td>\n",
       "      <td>住宅大樓(11層含以上有電梯)</td>\n",
       "      <td>商業用</td>\n",
       "      <td>鋼筋混凝土造</td>\n",
       "      <td>760305.0</td>\n",
       "      <td>38.09</td>\n",
       "      <td>1</td>\n",
       "      <td>1</td>\n",
       "      <td>1</td>\n",
       "      <td>有</td>\n",
       "      <td>有</td>\n",
       "      <td>357.1608</td>\n",
       "      <td>93768.0</td>\n",
       "      <td>NaN</td>\n",
       "      <td>0.0</td>\n",
       "      <td>0</td>\n",
       "      <td>親友、員工或其他特殊關係間之交易。</td>\n",
       "      <td>RPRNMLLJPHMFFCA57CA</td>\n",
       "      <td>106.0</td>\n",
       "      <td>76.0</td>\n",
       "      <td>32.0</td>\n",
       "    </tr>\n",
       "  </tbody>\n",
       "</table>\n",
       "</div>"
      ],
      "text/plain": [
       "    鄉鎮市區       交易標的         土地區段位置或建物區門牌  土地移轉總面積平方公尺 都市土地使用分區  非都市土地使用分區  \\\n",
       "500  中山區  房地(土地+建物)  臺北市中山區新生北路二段91~120號          3.1        商        NaN   \n",
       "\n",
       "     非都市土地使用編定    交易年月日      交易筆棟數 移轉層次 總樓層數             建物型態 主要用途    主要建材  \\\n",
       "500        NaN  1060519  土地1建物1車位0   九層  十四層  住宅大樓(11層含以上有電梯)  商業用  鋼筋混凝土造   \n",
       "\n",
       "       建築完成年月  建物移轉總面積平方公尺  建物現況格局-房  建物現況格局-廳  建物現況格局-衛 建物現況格局-隔間 有無管理組織  \\\n",
       "500  760305.0        38.09         1         1         1         有      有   \n",
       "\n",
       "          總價元  單價每平方公尺 車位類別  車位移轉總面積平方公尺  車位總價元                 備註  \\\n",
       "500  357.1608  93768.0  NaN          0.0      0  親友、員工或其他特殊關係間之交易。   \n",
       "\n",
       "                      編號    交易年  建築完成年    屋齡  \n",
       "500  RPRNMLLJPHMFFCA57CA  106.0   76.0  32.0  "
      ]
     },
     "execution_count": 10,
     "metadata": {},
     "output_type": "execute_result"
    }
   ],
   "source": [
    "df.sample(1)"
   ]
  },
  {
   "cell_type": "markdown",
   "metadata": {},
   "source": [
    "# 三、資料探索"
   ]
  },
  {
   "cell_type": "markdown",
   "metadata": {},
   "source": [
    "## 3.1 各鄉鎮資料筆數"
   ]
  },
  {
   "cell_type": "code",
   "execution_count": 11,
   "metadata": {},
   "outputs": [
    {
     "data": {
      "text/plain": [
       "Text(0, 0.5, '資料筆數')"
      ]
     },
     "execution_count": 11,
     "metadata": {},
     "output_type": "execute_result"
    },
    {
     "data": {
      "image/png": "[encoded data removed]",
      "text/plain": [
       "<Figure size 720x432 with 1 Axes>"
      ]
     },
     "metadata": {
      "needs_background": "light"
     },
     "output_type": "display_data"
    }
   ],
   "source": [
    "ax = df.groupby('鄉鎮市區').count().plot(kind='bar', y='交易標的',figsize=(10,6),fontsize=14,title='各鄉鎮資料筆數')\n",
    "ax.set_ylabel('資料筆數')"
   ]
  },
  {
   "cell_type": "markdown",
   "metadata": {},
   "source": [
    "## 3.2相關性分析"
   ]
  },
  {
   "cell_type": "code",
   "execution_count": 12,
   "metadata": {},
   "outputs": [],
   "source": [
    "corr = df[['總價元','土地移轉總面積平方公尺','建物移轉總面積平方公尺','建物現況格局-房','建物現況格局-廳','建物現況格局-衛','車位移轉總面積平方公尺','車位總價元','屋齡','建築完成年','交易年']].corr()"
   ]
  },
  {
   "cell_type": "code",
   "execution_count": 13,
   "metadata": {},
   "outputs": [
    {
     "data": {
      "text/html": [
       "<div>\n",
       "<style scoped>\n",
       "    .dataframe tbody tr th:only-of-type {\n",
       "        vertical-align: middle;\n",
       "    }\n",
       "\n",
       "    .dataframe tbody tr th {\n",
       "        vertical-align: top;\n",
       "    }\n",
       "\n",
       "    .dataframe thead th {\n",
       "        text-align: right;\n",
       "    }\n",
       "</style>\n",
       "<table border=\"1\" class=\"dataframe\">\n",
       "  <thead>\n",
       "    <tr style=\"text-align: right;\">\n",
       "      <th></th>\n",
       "      <th>總價元</th>\n",
       "      <th>土地移轉總面積平方公尺</th>\n",
       "      <th>建物移轉總面積平方公尺</th>\n",
       "      <th>建物現況格局-房</th>\n",
       "      <th>建物現況格局-廳</th>\n",
       "      <th>建物現況格局-衛</th>\n",
       "      <th>車位移轉總面積平方公尺</th>\n",
       "      <th>車位總價元</th>\n",
       "      <th>屋齡</th>\n",
       "      <th>建築完成年</th>\n",
       "      <th>交易年</th>\n",
       "    </tr>\n",
       "  </thead>\n",
       "  <tbody>\n",
       "    <tr>\n",
       "      <th>總價元</th>\n",
       "      <td>1.000000</td>\n",
       "      <td>0.718356</td>\n",
       "      <td>0.897664</td>\n",
       "      <td>0.037094</td>\n",
       "      <td>-0.051536</td>\n",
       "      <td>0.062915</td>\n",
       "      <td>0.472775</td>\n",
       "      <td>0.517171</td>\n",
       "      <td>-0.351787</td>\n",
       "      <td>0.351787</td>\n",
       "      <td>-0.044518</td>\n",
       "    </tr>\n",
       "    <tr>\n",
       "      <th>土地移轉總面積平方公尺</th>\n",
       "      <td>0.718356</td>\n",
       "      <td>1.000000</td>\n",
       "      <td>0.837357</td>\n",
       "      <td>0.218130</td>\n",
       "      <td>0.107488</td>\n",
       "      <td>0.168725</td>\n",
       "      <td>0.236906</td>\n",
       "      <td>0.215380</td>\n",
       "      <td>-0.090268</td>\n",
       "      <td>0.090268</td>\n",
       "      <td>0.006141</td>\n",
       "    </tr>\n",
       "    <tr>\n",
       "      <th>建物移轉總面積平方公尺</th>\n",
       "      <td>0.897664</td>\n",
       "      <td>0.837357</td>\n",
       "      <td>1.000000</td>\n",
       "      <td>0.072909</td>\n",
       "      <td>-0.027742</td>\n",
       "      <td>0.056027</td>\n",
       "      <td>0.451150</td>\n",
       "      <td>0.384596</td>\n",
       "      <td>-0.303746</td>\n",
       "      <td>0.303746</td>\n",
       "      <td>-0.048933</td>\n",
       "    </tr>\n",
       "    <tr>\n",
       "      <th>建物現況格局-房</th>\n",
       "      <td>0.037094</td>\n",
       "      <td>0.218130</td>\n",
       "      <td>0.072909</td>\n",
       "      <td>1.000000</td>\n",
       "      <td>0.664950</td>\n",
       "      <td>0.761660</td>\n",
       "      <td>0.016739</td>\n",
       "      <td>-0.012425</td>\n",
       "      <td>0.101536</td>\n",
       "      <td>-0.101536</td>\n",
       "      <td>-0.032178</td>\n",
       "    </tr>\n",
       "    <tr>\n",
       "      <th>建物現況格局-廳</th>\n",
       "      <td>-0.051536</td>\n",
       "      <td>0.107488</td>\n",
       "      <td>-0.027742</td>\n",
       "      <td>0.664950</td>\n",
       "      <td>1.000000</td>\n",
       "      <td>0.547287</td>\n",
       "      <td>-0.049335</td>\n",
       "      <td>-0.076489</td>\n",
       "      <td>0.051712</td>\n",
       "      <td>-0.051712</td>\n",
       "      <td>-0.001068</td>\n",
       "    </tr>\n",
       "    <tr>\n",
       "      <th>建物現況格局-衛</th>\n",
       "      <td>0.062915</td>\n",
       "      <td>0.168725</td>\n",
       "      <td>0.056027</td>\n",
       "      <td>0.761660</td>\n",
       "      <td>0.547287</td>\n",
       "      <td>1.000000</td>\n",
       "      <td>0.009501</td>\n",
       "      <td>-0.009853</td>\n",
       "      <td>-0.025424</td>\n",
       "      <td>0.025424</td>\n",
       "      <td>-0.070500</td>\n",
       "    </tr>\n",
       "    <tr>\n",
       "      <th>車位移轉總面積平方公尺</th>\n",
       "      <td>0.472775</td>\n",
       "      <td>0.236906</td>\n",
       "      <td>0.451150</td>\n",
       "      <td>0.016739</td>\n",
       "      <td>-0.049335</td>\n",
       "      <td>0.009501</td>\n",
       "      <td>1.000000</td>\n",
       "      <td>0.741627</td>\n",
       "      <td>-0.462698</td>\n",
       "      <td>0.462698</td>\n",
       "      <td>-0.096084</td>\n",
       "    </tr>\n",
       "    <tr>\n",
       "      <th>車位總價元</th>\n",
       "      <td>0.517171</td>\n",
       "      <td>0.215380</td>\n",
       "      <td>0.384596</td>\n",
       "      <td>-0.012425</td>\n",
       "      <td>-0.076489</td>\n",
       "      <td>-0.009853</td>\n",
       "      <td>0.741627</td>\n",
       "      <td>1.000000</td>\n",
       "      <td>-0.357414</td>\n",
       "      <td>0.357414</td>\n",
       "      <td>-0.061319</td>\n",
       "    </tr>\n",
       "    <tr>\n",
       "      <th>屋齡</th>\n",
       "      <td>-0.351787</td>\n",
       "      <td>-0.090268</td>\n",
       "      <td>-0.303746</td>\n",
       "      <td>0.101536</td>\n",
       "      <td>0.051712</td>\n",
       "      <td>-0.025424</td>\n",
       "      <td>-0.462698</td>\n",
       "      <td>-0.357414</td>\n",
       "      <td>1.000000</td>\n",
       "      <td>-1.000000</td>\n",
       "      <td>0.142024</td>\n",
       "    </tr>\n",
       "    <tr>\n",
       "      <th>建築完成年</th>\n",
       "      <td>0.351787</td>\n",
       "      <td>0.090268</td>\n",
       "      <td>0.303746</td>\n",
       "      <td>-0.101536</td>\n",
       "      <td>-0.051712</td>\n",
       "      <td>0.025424</td>\n",
       "      <td>0.462698</td>\n",
       "      <td>0.357414</td>\n",
       "      <td>-1.000000</td>\n",
       "      <td>1.000000</td>\n",
       "      <td>-0.142024</td>\n",
       "    </tr>\n",
       "    <tr>\n",
       "      <th>交易年</th>\n",
       "      <td>-0.044518</td>\n",
       "      <td>0.006141</td>\n",
       "      <td>-0.048933</td>\n",
       "      <td>-0.032178</td>\n",
       "      <td>-0.001068</td>\n",
       "      <td>-0.070500</td>\n",
       "      <td>-0.096084</td>\n",
       "      <td>-0.061319</td>\n",
       "      <td>0.142024</td>\n",
       "      <td>-0.142024</td>\n",
       "      <td>1.000000</td>\n",
       "    </tr>\n",
       "  </tbody>\n",
       "</table>\n",
       "</div>"
      ],
      "text/plain": [
       "                  總價元  土地移轉總面積平方公尺  建物移轉總面積平方公尺  建物現況格局-房  建物現況格局-廳  建物現況格局-衛  \\\n",
       "總價元          1.000000     0.718356     0.897664  0.037094 -0.051536  0.062915   \n",
       "土地移轉總面積平方公尺  0.718356     1.000000     0.837357  0.218130  0.107488  0.168725   \n",
       "建物移轉總面積平方公尺  0.897664     0.837357     1.000000  0.072909 -0.027742  0.056027   \n",
       "建物現況格局-房     0.037094     0.218130     0.072909  1.000000  0.664950  0.761660   \n",
       "建物現況格局-廳    -0.051536     0.107488    -0.027742  0.664950  1.000000  0.547287   \n",
       "建物現況格局-衛     0.062915     0.168725     0.056027  0.761660  0.547287  1.000000   \n",
       "車位移轉總面積平方公尺  0.472775     0.236906     0.451150  0.016739 -0.049335  0.009501   \n",
       "車位總價元        0.517171     0.215380     0.384596 -0.012425 -0.076489 -0.009853   \n",
       "屋齡          -0.351787    -0.090268    -0.303746  0.101536  0.051712 -0.025424   \n",
       "建築完成年        0.351787     0.090268     0.303746 -0.101536 -0.051712  0.025424   \n",
       "交易年         -0.044518     0.006141    -0.048933 -0.032178 -0.001068 -0.070500   \n",
       "\n",
       "             車位移轉總面積平方公尺     車位總價元        屋齡     建築完成年       交易年  \n",
       "總價元             0.472775  0.517171 -0.351787  0.351787 -0.044518  \n",
       "土地移轉總面積平方公尺     0.236906  0.215380 -0.090268  0.090268  0.006141  \n",
       "建物移轉總面積平方公尺     0.451150  0.384596 -0.303746  0.303746 -0.048933  \n",
       "建物現況格局-房        0.016739 -0.012425  0.101536 -0.101536 -0.032178  \n",
       "建物現況格局-廳       -0.049335 -0.076489  0.051712 -0.051712 -0.001068  \n",
       "建物現況格局-衛        0.009501 -0.009853 -0.025424  0.025424 -0.070500  \n",
       "車位移轉總面積平方公尺     1.000000  0.741627 -0.462698  0.462698 -0.096084  \n",
       "車位總價元           0.741627  1.000000 -0.357414  0.357414 -0.061319  \n",
       "屋齡             -0.462698 -0.357414  1.000000 -1.000000  0.142024  \n",
       "建築完成年           0.462698  0.357414 -1.000000  1.000000 -0.142024  \n",
       "交易年            -0.096084 -0.061319  0.142024 -0.142024  1.000000  "
      ]
     },
     "execution_count": 13,
     "metadata": {},
     "output_type": "execute_result"
    }
   ],
   "source": [
    "corr"
   ]
  },
  {
   "cell_type": "code",
   "execution_count": 14,
   "metadata": {},
   "outputs": [
    {
     "data": {
      "image/png": "[encoded data removed]",
      "text/plain": [
       "<Figure size 720x720 with 2 Axes>"
      ]
     },
     "metadata": {
      "needs_background": "light"
     },
     "output_type": "display_data"
    }
   ],
   "source": [
    "#繪製相關性圖\n",
    "import seaborn as sns\n",
    "plt.figure(figsize=(10,10))\n",
    "sns.heatmap(corr, square=True, annot=True)\n",
    "plt.show()"
   ]
  },
  {
   "cell_type": "code",
   "execution_count": 15,
   "metadata": {},
   "outputs": [
    {
     "data": {
      "text/plain": [
       "<matplotlib.axes._subplots.AxesSubplot at 0x1b5eb2b0>"
      ]
     },
     "execution_count": 15,
     "metadata": {},
     "output_type": "execute_result"
    },
    {
     "data": {
      "image/png": "[encoded data removed]",
      "text/plain": [
       "<Figure size 432x288 with 1 Axes>"
      ]
     },
     "metadata": {
      "needs_background": "light"
     },
     "output_type": "display_data"
    }
   ],
   "source": [
    "df.plot(kind='scatter', x='建物移轉總面積平方公尺', y='總價元')"
   ]
  },
  {
   "cell_type": "code",
   "execution_count": 16,
   "metadata": {},
   "outputs": [
    {
     "data": {
      "text/plain": [
       "<matplotlib.axes._subplots.AxesSubplot at 0x1b373c18>"
      ]
     },
     "execution_count": 16,
     "metadata": {},
     "output_type": "execute_result"
    },
    {
     "data": {
      "image/png": "[encoded data removed]",
      "text/plain": [
       "<Figure size 432x288 with 1 Axes>"
      ]
     },
     "metadata": {
      "needs_background": "light"
     },
     "output_type": "display_data"
    }
   ],
   "source": [
    "df.plot(kind='scatter', x='屋齡', y='總價元')"
   ]
  },
  {
   "cell_type": "markdown",
   "metadata": {},
   "source": [
    "## 3.3 各鄉鎮比較"
   ]
  },
  {
   "cell_type": "code",
   "execution_count": 17,
   "metadata": {},
   "outputs": [
    {
     "data": {
      "text/html": [
       "<div>\n",
       "<style scoped>\n",
       "    .dataframe tbody tr th:only-of-type {\n",
       "        vertical-align: middle;\n",
       "    }\n",
       "\n",
       "    .dataframe tbody tr th {\n",
       "        vertical-align: top;\n",
       "    }\n",
       "\n",
       "    .dataframe thead th {\n",
       "        text-align: right;\n",
       "    }\n",
       "</style>\n",
       "<table border=\"1\" class=\"dataframe\">\n",
       "  <thead>\n",
       "    <tr style=\"text-align: right;\">\n",
       "      <th></th>\n",
       "      <th>土地移轉總面積平方公尺</th>\n",
       "      <th>建物移轉總面積平方公尺</th>\n",
       "      <th>單價每平方公尺</th>\n",
       "      <th>建物現況格局-房</th>\n",
       "      <th>建物現況格局-廳</th>\n",
       "      <th>建物現況格局-衛</th>\n",
       "      <th>車位移轉總面積平方公尺</th>\n",
       "      <th>車位總價元</th>\n",
       "      <th>屋齡</th>\n",
       "      <th>建築完成年</th>\n",
       "      <th>交易年</th>\n",
       "      <th>總價元</th>\n",
       "    </tr>\n",
       "    <tr>\n",
       "      <th>鄉鎮市區</th>\n",
       "      <th></th>\n",
       "      <th></th>\n",
       "      <th></th>\n",
       "      <th></th>\n",
       "      <th></th>\n",
       "      <th></th>\n",
       "      <th></th>\n",
       "      <th></th>\n",
       "      <th></th>\n",
       "      <th></th>\n",
       "      <th></th>\n",
       "      <th></th>\n",
       "    </tr>\n",
       "  </thead>\n",
       "  <tbody>\n",
       "    <tr>\n",
       "      <th>中山區</th>\n",
       "      <td>16.297692</td>\n",
       "      <td>105.000096</td>\n",
       "      <td>182520.461538</td>\n",
       "      <td>2.076923</td>\n",
       "      <td>1.375000</td>\n",
       "      <td>1.519231</td>\n",
       "      <td>7.903173</td>\n",
       "      <td>479519.230769</td>\n",
       "      <td>22.096774</td>\n",
       "      <td>85.903226</td>\n",
       "      <td>105.903846</td>\n",
       "      <td>2139.697917</td>\n",
       "    </tr>\n",
       "    <tr>\n",
       "      <th>中正區</th>\n",
       "      <td>17.749583</td>\n",
       "      <td>113.277500</td>\n",
       "      <td>203961.895833</td>\n",
       "      <td>1.708333</td>\n",
       "      <td>1.145833</td>\n",
       "      <td>1.187500</td>\n",
       "      <td>5.110417</td>\n",
       "      <td>277083.333333</td>\n",
       "      <td>24.743590</td>\n",
       "      <td>83.256410</td>\n",
       "      <td>105.833333</td>\n",
       "      <td>2477.166704</td>\n",
       "    </tr>\n",
       "    <tr>\n",
       "      <th>信義區</th>\n",
       "      <td>28.029821</td>\n",
       "      <td>127.634286</td>\n",
       "      <td>189706.750000</td>\n",
       "      <td>2.267857</td>\n",
       "      <td>1.428571</td>\n",
       "      <td>1.446429</td>\n",
       "      <td>8.865714</td>\n",
       "      <td>298214.285714</td>\n",
       "      <td>29.780488</td>\n",
       "      <td>78.219512</td>\n",
       "      <td>105.946429</td>\n",
       "      <td>2314.053964</td>\n",
       "    </tr>\n",
       "    <tr>\n",
       "      <th>內湖區</th>\n",
       "      <td>37.064609</td>\n",
       "      <td>182.183652</td>\n",
       "      <td>162547.035088</td>\n",
       "      <td>2.521739</td>\n",
       "      <td>1.530435</td>\n",
       "      <td>1.547826</td>\n",
       "      <td>17.334609</td>\n",
       "      <td>478695.652174</td>\n",
       "      <td>21.176991</td>\n",
       "      <td>86.823009</td>\n",
       "      <td>105.652174</td>\n",
       "      <td>2892.934783</td>\n",
       "    </tr>\n",
       "    <tr>\n",
       "      <th>北投區</th>\n",
       "      <td>28.839167</td>\n",
       "      <td>133.713000</td>\n",
       "      <td>142094.283333</td>\n",
       "      <td>2.050000</td>\n",
       "      <td>1.366667</td>\n",
       "      <td>1.350000</td>\n",
       "      <td>17.170833</td>\n",
       "      <td>734166.666667</td>\n",
       "      <td>21.016667</td>\n",
       "      <td>86.983333</td>\n",
       "      <td>105.866667</td>\n",
       "      <td>1960.550000</td>\n",
       "    </tr>\n",
       "    <tr>\n",
       "      <th>南港區</th>\n",
       "      <td>31.355000</td>\n",
       "      <td>156.041176</td>\n",
       "      <td>164861.647059</td>\n",
       "      <td>2.294118</td>\n",
       "      <td>1.529412</td>\n",
       "      <td>1.500000</td>\n",
       "      <td>15.133824</td>\n",
       "      <td>555882.352941</td>\n",
       "      <td>16.142857</td>\n",
       "      <td>91.857143</td>\n",
       "      <td>105.970588</td>\n",
       "      <td>2641.029412</td>\n",
       "    </tr>\n",
       "    <tr>\n",
       "      <th>士林區</th>\n",
       "      <td>33.232364</td>\n",
       "      <td>148.830000</td>\n",
       "      <td>179288.290909</td>\n",
       "      <td>2.309091</td>\n",
       "      <td>1.563636</td>\n",
       "      <td>1.545455</td>\n",
       "      <td>15.637818</td>\n",
       "      <td>938181.818182</td>\n",
       "      <td>30.109091</td>\n",
       "      <td>77.890909</td>\n",
       "      <td>106.000000</td>\n",
       "      <td>3244.573075</td>\n",
       "    </tr>\n",
       "    <tr>\n",
       "      <th>大同區</th>\n",
       "      <td>18.098182</td>\n",
       "      <td>108.097576</td>\n",
       "      <td>142900.272727</td>\n",
       "      <td>2.212121</td>\n",
       "      <td>1.454545</td>\n",
       "      <td>1.303030</td>\n",
       "      <td>7.021212</td>\n",
       "      <td>192424.242424</td>\n",
       "      <td>24.185185</td>\n",
       "      <td>83.814815</td>\n",
       "      <td>105.909091</td>\n",
       "      <td>1549.110000</td>\n",
       "    </tr>\n",
       "    <tr>\n",
       "      <th>大安區</th>\n",
       "      <td>22.519455</td>\n",
       "      <td>126.577636</td>\n",
       "      <td>247827.327273</td>\n",
       "      <td>2.163636</td>\n",
       "      <td>1.436364</td>\n",
       "      <td>1.400000</td>\n",
       "      <td>6.381818</td>\n",
       "      <td>252727.272727</td>\n",
       "      <td>25.722222</td>\n",
       "      <td>82.277778</td>\n",
       "      <td>106.000000</td>\n",
       "      <td>3099.045173</td>\n",
       "    </tr>\n",
       "    <tr>\n",
       "      <th>文山區</th>\n",
       "      <td>32.762361</td>\n",
       "      <td>116.861667</td>\n",
       "      <td>139447.333333</td>\n",
       "      <td>2.555556</td>\n",
       "      <td>1.625000</td>\n",
       "      <td>1.541667</td>\n",
       "      <td>9.924583</td>\n",
       "      <td>315972.222222</td>\n",
       "      <td>19.500000</td>\n",
       "      <td>88.500000</td>\n",
       "      <td>105.916667</td>\n",
       "      <td>1586.723512</td>\n",
       "    </tr>\n",
       "    <tr>\n",
       "      <th>松山區</th>\n",
       "      <td>23.050000</td>\n",
       "      <td>105.785909</td>\n",
       "      <td>200028.568182</td>\n",
       "      <td>2.340909</td>\n",
       "      <td>1.613636</td>\n",
       "      <td>1.386364</td>\n",
       "      <td>1.609091</td>\n",
       "      <td>181818.181818</td>\n",
       "      <td>33.487805</td>\n",
       "      <td>74.512195</td>\n",
       "      <td>106.000000</td>\n",
       "      <td>2106.715716</td>\n",
       "    </tr>\n",
       "    <tr>\n",
       "      <th>萬華區</th>\n",
       "      <td>19.857419</td>\n",
       "      <td>80.406613</td>\n",
       "      <td>132711.532258</td>\n",
       "      <td>2.161290</td>\n",
       "      <td>1.338710</td>\n",
       "      <td>1.290323</td>\n",
       "      <td>1.555645</td>\n",
       "      <td>7096.774194</td>\n",
       "      <td>32.037736</td>\n",
       "      <td>75.962264</td>\n",
       "      <td>106.000000</td>\n",
       "      <td>1074.496774</td>\n",
       "    </tr>\n",
       "  </tbody>\n",
       "</table>\n",
       "</div>"
      ],
      "text/plain": [
       "      土地移轉總面積平方公尺  建物移轉總面積平方公尺        單價每平方公尺  建物現況格局-房  建物現況格局-廳  建物現況格局-衛  \\\n",
       "鄉鎮市區                                                                          \n",
       "中山區     16.297692   105.000096  182520.461538  2.076923  1.375000  1.519231   \n",
       "中正區     17.749583   113.277500  203961.895833  1.708333  1.145833  1.187500   \n",
       "信義區     28.029821   127.634286  189706.750000  2.267857  1.428571  1.446429   \n",
       "內湖區     37.064609   182.183652  162547.035088  2.521739  1.530435  1.547826   \n",
       "北投區     28.839167   133.713000  142094.283333  2.050000  1.366667  1.350000   \n",
       "南港區     31.355000   156.041176  164861.647059  2.294118  1.529412  1.500000   \n",
       "士林區     33.232364   148.830000  179288.290909  2.309091  1.563636  1.545455   \n",
       "大同區     18.098182   108.097576  142900.272727  2.212121  1.454545  1.303030   \n",
       "大安區     22.519455   126.577636  247827.327273  2.163636  1.436364  1.400000   \n",
       "文山區     32.762361   116.861667  139447.333333  2.555556  1.625000  1.541667   \n",
       "松山區     23.050000   105.785909  200028.568182  2.340909  1.613636  1.386364   \n",
       "萬華區     19.857419    80.406613  132711.532258  2.161290  1.338710  1.290323   \n",
       "\n",
       "      車位移轉總面積平方公尺          車位總價元         屋齡      建築完成年         交易年  \\\n",
       "鄉鎮市區                                                                 \n",
       "中山區      7.903173  479519.230769  22.096774  85.903226  105.903846   \n",
       "中正區      5.110417  277083.333333  24.743590  83.256410  105.833333   \n",
       "信義區      8.865714  298214.285714  29.780488  78.219512  105.946429   \n",
       "內湖區     17.334609  478695.652174  21.176991  86.823009  105.652174   \n",
       "北投區     17.170833  734166.666667  21.016667  86.983333  105.866667   \n",
       "南港區     15.133824  555882.352941  16.142857  91.857143  105.970588   \n",
       "士林區     15.637818  938181.818182  30.109091  77.890909  106.000000   \n",
       "大同區      7.021212  192424.242424  24.185185  83.814815  105.909091   \n",
       "大安區      6.381818  252727.272727  25.722222  82.277778  106.000000   \n",
       "文山區      9.924583  315972.222222  19.500000  88.500000  105.916667   \n",
       "松山區      1.609091  181818.181818  33.487805  74.512195  106.000000   \n",
       "萬華區      1.555645    7096.774194  32.037736  75.962264  106.000000   \n",
       "\n",
       "              總價元  \n",
       "鄉鎮市區               \n",
       "中山區   2139.697917  \n",
       "中正區   2477.166704  \n",
       "信義區   2314.053964  \n",
       "內湖區   2892.934783  \n",
       "北投區   1960.550000  \n",
       "南港區   2641.029412  \n",
       "士林區   3244.573075  \n",
       "大同區   1549.110000  \n",
       "大安區   3099.045173  \n",
       "文山區   1586.723512  \n",
       "松山區   2106.715716  \n",
       "萬華區   1074.496774  "
      ]
     },
     "execution_count": 17,
     "metadata": {},
     "output_type": "execute_result"
    }
   ],
   "source": [
    "df2 = df[['鄉鎮市區','土地移轉總面積平方公尺','建物移轉總面積平方公尺','單價每平方公尺','建物現況格局-房','建物現況格局-廳','建物現況格局-衛','車位移轉總面積平方公尺','車位總價元','屋齡','建築完成年','交易年', '總價元']]\n",
    "df2.groupby('鄉鎮市區').mean()"
   ]
  },
  {
   "cell_type": "code",
   "execution_count": 18,
   "metadata": {},
   "outputs": [
    {
     "data": {
      "text/plain": [
       "<matplotlib.axes._subplots.AxesSubplot at 0x1b3d36a0>"
      ]
     },
     "execution_count": 18,
     "metadata": {},
     "output_type": "execute_result"
    },
    {
     "data": {
      "image/png": "[encoded data removed]",
      "text/plain": [
       "<Figure size 720x432 with 1 Axes>"
      ]
     },
     "metadata": {
      "needs_background": "light"
     },
     "output_type": "display_data"
    }
   ],
   "source": [
    "df2.groupby('鄉鎮市區').mean().plot(kind='bar', y='單價每平方公尺', figsize=(10,6))"
   ]
  },
  {
   "cell_type": "markdown",
   "metadata": {},
   "source": [
    "# 四、資料預處理(二) - 機器學習"
   ]
  },
  {
   "cell_type": "markdown",
   "metadata": {},
   "source": [
    "## 4.1 針對鄉鎮市區做one-hot encoding"
   ]
  },
  {
   "cell_type": "code",
   "execution_count": 19,
   "metadata": {},
   "outputs": [
    {
     "data": {
      "text/html": [
       "<div>\n",
       "<style scoped>\n",
       "    .dataframe tbody tr th:only-of-type {\n",
       "        vertical-align: middle;\n",
       "    }\n",
       "\n",
       "    .dataframe tbody tr th {\n",
       "        vertical-align: top;\n",
       "    }\n",
       "\n",
       "    .dataframe thead th {\n",
       "        text-align: right;\n",
       "    }\n",
       "</style>\n",
       "<table border=\"1\" class=\"dataframe\">\n",
       "  <thead>\n",
       "    <tr style=\"text-align: right;\">\n",
       "      <th></th>\n",
       "      <th>中山區</th>\n",
       "      <th>中正區</th>\n",
       "      <th>信義區</th>\n",
       "      <th>內湖區</th>\n",
       "      <th>北投區</th>\n",
       "      <th>南港區</th>\n",
       "      <th>士林區</th>\n",
       "      <th>大同區</th>\n",
       "      <th>大安區</th>\n",
       "      <th>文山區</th>\n",
       "      <th>松山區</th>\n",
       "      <th>萬華區</th>\n",
       "    </tr>\n",
       "  </thead>\n",
       "  <tbody>\n",
       "    <tr>\n",
       "      <th>0</th>\n",
       "      <td>0</td>\n",
       "      <td>0</td>\n",
       "      <td>0</td>\n",
       "      <td>0</td>\n",
       "      <td>0</td>\n",
       "      <td>0</td>\n",
       "      <td>0</td>\n",
       "      <td>1</td>\n",
       "      <td>0</td>\n",
       "      <td>0</td>\n",
       "      <td>0</td>\n",
       "      <td>0</td>\n",
       "    </tr>\n",
       "    <tr>\n",
       "      <th>1</th>\n",
       "      <td>0</td>\n",
       "      <td>0</td>\n",
       "      <td>0</td>\n",
       "      <td>1</td>\n",
       "      <td>0</td>\n",
       "      <td>0</td>\n",
       "      <td>0</td>\n",
       "      <td>0</td>\n",
       "      <td>0</td>\n",
       "      <td>0</td>\n",
       "      <td>0</td>\n",
       "      <td>0</td>\n",
       "    </tr>\n",
       "    <tr>\n",
       "      <th>2</th>\n",
       "      <td>0</td>\n",
       "      <td>0</td>\n",
       "      <td>0</td>\n",
       "      <td>1</td>\n",
       "      <td>0</td>\n",
       "      <td>0</td>\n",
       "      <td>0</td>\n",
       "      <td>0</td>\n",
       "      <td>0</td>\n",
       "      <td>0</td>\n",
       "      <td>0</td>\n",
       "      <td>0</td>\n",
       "    </tr>\n",
       "    <tr>\n",
       "      <th>3</th>\n",
       "      <td>0</td>\n",
       "      <td>0</td>\n",
       "      <td>0</td>\n",
       "      <td>1</td>\n",
       "      <td>0</td>\n",
       "      <td>0</td>\n",
       "      <td>0</td>\n",
       "      <td>0</td>\n",
       "      <td>0</td>\n",
       "      <td>0</td>\n",
       "      <td>0</td>\n",
       "      <td>0</td>\n",
       "    </tr>\n",
       "    <tr>\n",
       "      <th>4</th>\n",
       "      <td>0</td>\n",
       "      <td>0</td>\n",
       "      <td>0</td>\n",
       "      <td>1</td>\n",
       "      <td>0</td>\n",
       "      <td>0</td>\n",
       "      <td>0</td>\n",
       "      <td>0</td>\n",
       "      <td>0</td>\n",
       "      <td>0</td>\n",
       "      <td>0</td>\n",
       "      <td>0</td>\n",
       "    </tr>\n",
       "  </tbody>\n",
       "</table>\n",
       "</div>"
      ],
      "text/plain": [
       "   中山區  中正區  信義區  內湖區  北投區  南港區  士林區  大同區  大安區  文山區  松山區  萬華區\n",
       "0    0    0    0    0    0    0    0    1    0    0    0    0\n",
       "1    0    0    0    1    0    0    0    0    0    0    0    0\n",
       "2    0    0    0    1    0    0    0    0    0    0    0    0\n",
       "3    0    0    0    1    0    0    0    0    0    0    0    0\n",
       "4    0    0    0    1    0    0    0    0    0    0    0    0"
      ]
     },
     "execution_count": 19,
     "metadata": {},
     "output_type": "execute_result"
    }
   ],
   "source": [
    "df_region = pd.get_dummies(df['鄉鎮市區'])\n",
    "df_region.head()"
   ]
  },
  {
   "cell_type": "code",
   "execution_count": 20,
   "metadata": {},
   "outputs": [
    {
     "data": {
      "text/html": [
       "<div>\n",
       "<style scoped>\n",
       "    .dataframe tbody tr th:only-of-type {\n",
       "        vertical-align: middle;\n",
       "    }\n",
       "\n",
       "    .dataframe tbody tr th {\n",
       "        vertical-align: top;\n",
       "    }\n",
       "\n",
       "    .dataframe thead th {\n",
       "        text-align: right;\n",
       "    }\n",
       "</style>\n",
       "<table border=\"1\" class=\"dataframe\">\n",
       "  <thead>\n",
       "    <tr style=\"text-align: right;\">\n",
       "      <th></th>\n",
       "      <th>鄉鎮市區</th>\n",
       "      <th>土地移轉總面積平方公尺</th>\n",
       "      <th>建物移轉總面積平方公尺</th>\n",
       "      <th>單價每平方公尺</th>\n",
       "      <th>建物現況格局-房</th>\n",
       "      <th>建物現況格局-廳</th>\n",
       "      <th>建物現況格局-衛</th>\n",
       "      <th>車位移轉總面積平方公尺</th>\n",
       "      <th>車位總價元</th>\n",
       "      <th>屋齡</th>\n",
       "      <th>建築完成年</th>\n",
       "      <th>交易年</th>\n",
       "      <th>總價元</th>\n",
       "      <th>中山區</th>\n",
       "      <th>中正區</th>\n",
       "      <th>信義區</th>\n",
       "      <th>內湖區</th>\n",
       "      <th>北投區</th>\n",
       "      <th>南港區</th>\n",
       "      <th>士林區</th>\n",
       "      <th>大同區</th>\n",
       "      <th>大安區</th>\n",
       "      <th>文山區</th>\n",
       "      <th>松山區</th>\n",
       "      <th>萬華區</th>\n",
       "    </tr>\n",
       "  </thead>\n",
       "  <tbody>\n",
       "    <tr>\n",
       "      <th>0</th>\n",
       "      <td>大同區</td>\n",
       "      <td>6.34</td>\n",
       "      <td>55.19</td>\n",
       "      <td>233738.0</td>\n",
       "      <td>1</td>\n",
       "      <td>1</td>\n",
       "      <td>1</td>\n",
       "      <td>0.00</td>\n",
       "      <td>0</td>\n",
       "      <td>25.0</td>\n",
       "      <td>83.0</td>\n",
       "      <td>104.0</td>\n",
       "      <td>1290.0</td>\n",
       "      <td>0</td>\n",
       "      <td>0</td>\n",
       "      <td>0</td>\n",
       "      <td>0</td>\n",
       "      <td>0</td>\n",
       "      <td>0</td>\n",
       "      <td>0</td>\n",
       "      <td>1</td>\n",
       "      <td>0</td>\n",
       "      <td>0</td>\n",
       "      <td>0</td>\n",
       "      <td>0</td>\n",
       "    </tr>\n",
       "    <tr>\n",
       "      <th>1</th>\n",
       "      <td>內湖區</td>\n",
       "      <td>4.96</td>\n",
       "      <td>38.79</td>\n",
       "      <td>110853.0</td>\n",
       "      <td>1</td>\n",
       "      <td>1</td>\n",
       "      <td>1</td>\n",
       "      <td>0.00</td>\n",
       "      <td>0</td>\n",
       "      <td>23.0</td>\n",
       "      <td>85.0</td>\n",
       "      <td>105.0</td>\n",
       "      <td>430.0</td>\n",
       "      <td>0</td>\n",
       "      <td>0</td>\n",
       "      <td>0</td>\n",
       "      <td>1</td>\n",
       "      <td>0</td>\n",
       "      <td>0</td>\n",
       "      <td>0</td>\n",
       "      <td>0</td>\n",
       "      <td>0</td>\n",
       "      <td>0</td>\n",
       "      <td>0</td>\n",
       "      <td>0</td>\n",
       "    </tr>\n",
       "    <tr>\n",
       "      <th>2</th>\n",
       "      <td>內湖區</td>\n",
       "      <td>13.72</td>\n",
       "      <td>149.24</td>\n",
       "      <td>160815.0</td>\n",
       "      <td>3</td>\n",
       "      <td>2</td>\n",
       "      <td>2</td>\n",
       "      <td>12.96</td>\n",
       "      <td>0</td>\n",
       "      <td>11.0</td>\n",
       "      <td>97.0</td>\n",
       "      <td>105.0</td>\n",
       "      <td>2400.0</td>\n",
       "      <td>0</td>\n",
       "      <td>0</td>\n",
       "      <td>0</td>\n",
       "      <td>1</td>\n",
       "      <td>0</td>\n",
       "      <td>0</td>\n",
       "      <td>0</td>\n",
       "      <td>0</td>\n",
       "      <td>0</td>\n",
       "      <td>0</td>\n",
       "      <td>0</td>\n",
       "      <td>0</td>\n",
       "    </tr>\n",
       "    <tr>\n",
       "      <th>3</th>\n",
       "      <td>內湖區</td>\n",
       "      <td>22.45</td>\n",
       "      <td>136.20</td>\n",
       "      <td>149046.0</td>\n",
       "      <td>3</td>\n",
       "      <td>2</td>\n",
       "      <td>1</td>\n",
       "      <td>34.60</td>\n",
       "      <td>0</td>\n",
       "      <td>11.0</td>\n",
       "      <td>97.0</td>\n",
       "      <td>105.0</td>\n",
       "      <td>2030.0</td>\n",
       "      <td>0</td>\n",
       "      <td>0</td>\n",
       "      <td>0</td>\n",
       "      <td>1</td>\n",
       "      <td>0</td>\n",
       "      <td>0</td>\n",
       "      <td>0</td>\n",
       "      <td>0</td>\n",
       "      <td>0</td>\n",
       "      <td>0</td>\n",
       "      <td>0</td>\n",
       "      <td>0</td>\n",
       "    </tr>\n",
       "    <tr>\n",
       "      <th>4</th>\n",
       "      <td>內湖區</td>\n",
       "      <td>33.51</td>\n",
       "      <td>242.78</td>\n",
       "      <td>197216.0</td>\n",
       "      <td>5</td>\n",
       "      <td>2</td>\n",
       "      <td>2</td>\n",
       "      <td>51.07</td>\n",
       "      <td>0</td>\n",
       "      <td>15.0</td>\n",
       "      <td>93.0</td>\n",
       "      <td>105.0</td>\n",
       "      <td>4788.0</td>\n",
       "      <td>0</td>\n",
       "      <td>0</td>\n",
       "      <td>0</td>\n",
       "      <td>1</td>\n",
       "      <td>0</td>\n",
       "      <td>0</td>\n",
       "      <td>0</td>\n",
       "      <td>0</td>\n",
       "      <td>0</td>\n",
       "      <td>0</td>\n",
       "      <td>0</td>\n",
       "      <td>0</td>\n",
       "    </tr>\n",
       "  </tbody>\n",
       "</table>\n",
       "</div>"
      ],
      "text/plain": [
       "  鄉鎮市區  土地移轉總面積平方公尺  建物移轉總面積平方公尺   單價每平方公尺  建物現況格局-房  建物現況格局-廳  建物現況格局-衛  \\\n",
       "0  大同區         6.34        55.19  233738.0         1         1         1   \n",
       "1  內湖區         4.96        38.79  110853.0         1         1         1   \n",
       "2  內湖區        13.72       149.24  160815.0         3         2         2   \n",
       "3  內湖區        22.45       136.20  149046.0         3         2         1   \n",
       "4  內湖區        33.51       242.78  197216.0         5         2         2   \n",
       "\n",
       "   車位移轉總面積平方公尺  車位總價元    屋齡  建築完成年    交易年     總價元  中山區  中正區  信義區  內湖區  北投區  \\\n",
       "0         0.00      0  25.0   83.0  104.0  1290.0    0    0    0    0    0   \n",
       "1         0.00      0  23.0   85.0  105.0   430.0    0    0    0    1    0   \n",
       "2        12.96      0  11.0   97.0  105.0  2400.0    0    0    0    1    0   \n",
       "3        34.60      0  11.0   97.0  105.0  2030.0    0    0    0    1    0   \n",
       "4        51.07      0  15.0   93.0  105.0  4788.0    0    0    0    1    0   \n",
       "\n",
       "   南港區  士林區  大同區  大安區  文山區  松山區  萬華區  \n",
       "0    0    0    1    0    0    0    0  \n",
       "1    0    0    0    0    0    0    0  \n",
       "2    0    0    0    0    0    0    0  \n",
       "3    0    0    0    0    0    0    0  \n",
       "4    0    0    0    0    0    0    0  "
      ]
     },
     "execution_count": 20,
     "metadata": {},
     "output_type": "execute_result"
    }
   ],
   "source": [
    "#合併dataframe\n",
    "df_ml = pd.merge(df2, df_region, left_index=True, right_index=True)\n",
    "df_ml.head()"
   ]
  },
  {
   "cell_type": "markdown",
   "metadata": {},
   "source": [
    "## 4.2 去除遺失值和極端值"
   ]
  },
  {
   "cell_type": "code",
   "execution_count": 21,
   "metadata": {},
   "outputs": [],
   "source": [
    "df_ml = df_ml.dropna().reset_index(drop=True)"
   ]
  },
  {
   "cell_type": "code",
   "execution_count": 22,
   "metadata": {},
   "outputs": [],
   "source": [
    "df_ml = df_ml[df_ml['建物移轉總面積平方公尺']<1000]"
   ]
  },
  {
   "cell_type": "code",
   "execution_count": 23,
   "metadata": {},
   "outputs": [
    {
     "data": {
      "text/plain": [
       "<matplotlib.axes._subplots.AxesSubplot at 0x1b460c18>"
      ]
     },
     "execution_count": 23,
     "metadata": {},
     "output_type": "execute_result"
    },
    {
     "data": {
      "image/png": "[encoded data removed]",
      "text/plain": [
       "<Figure size 432x288 with 1 Axes>"
      ]
     },
     "metadata": {
      "needs_background": "light"
     },
     "output_type": "display_data"
    }
   ],
   "source": [
    "df_ml.plot(kind='scatter', x='建物移轉總面積平方公尺', y = '總價元')"
   ]
  },
  {
   "cell_type": "markdown",
   "metadata": {},
   "source": [
    "# 五、簡單線性迴歸"
   ]
  },
  {
   "cell_type": "markdown",
   "metadata": {},
   "source": [
    "## 5.1 使用Scikit-Learn SGDRegressor"
   ]
  },
  {
   "cell_type": "code",
   "execution_count": 24,
   "metadata": {},
   "outputs": [
    {
     "data": {
      "text/html": [
       "<div>\n",
       "<style scoped>\n",
       "    .dataframe tbody tr th:only-of-type {\n",
       "        vertical-align: middle;\n",
       "    }\n",
       "\n",
       "    .dataframe tbody tr th {\n",
       "        vertical-align: top;\n",
       "    }\n",
       "\n",
       "    .dataframe thead th {\n",
       "        text-align: right;\n",
       "    }\n",
       "</style>\n",
       "<table border=\"1\" class=\"dataframe\">\n",
       "  <thead>\n",
       "    <tr style=\"text-align: right;\">\n",
       "      <th></th>\n",
       "      <th>建物移轉總面積平方公尺</th>\n",
       "    </tr>\n",
       "  </thead>\n",
       "  <tbody>\n",
       "    <tr>\n",
       "      <th>78</th>\n",
       "      <td>33.53</td>\n",
       "    </tr>\n",
       "    <tr>\n",
       "      <th>337</th>\n",
       "      <td>192.24</td>\n",
       "    </tr>\n",
       "    <tr>\n",
       "      <th>357</th>\n",
       "      <td>64.02</td>\n",
       "    </tr>\n",
       "    <tr>\n",
       "      <th>305</th>\n",
       "      <td>43.01</td>\n",
       "    </tr>\n",
       "    <tr>\n",
       "      <th>383</th>\n",
       "      <td>135.91</td>\n",
       "    </tr>\n",
       "  </tbody>\n",
       "</table>\n",
       "</div>"
      ],
      "text/plain": [
       "     建物移轉總面積平方公尺\n",
       "78         33.53\n",
       "337       192.24\n",
       "357        64.02\n",
       "305        43.01\n",
       "383       135.91"
      ]
     },
     "execution_count": 24,
     "metadata": {},
     "output_type": "execute_result"
    }
   ],
   "source": [
    "from sklearn.model_selection import train_test_split\n",
    "\n",
    "X = df_ml[['建物移轉總面積平方公尺']]\n",
    "y = df_ml[['總價元']]\n",
    "\n",
    "X_train, X_test, y_train, y_test = train_test_split(X,y,test_size = 0.3)\n",
    "X_train.head()"
   ]
  },
  {
   "cell_type": "markdown",
   "metadata": {},
   "source": [
    "## 5.1.2 特徵標準化(Standardization)"
   ]
  },
  {
   "cell_type": "code",
   "execution_count": 25,
   "metadata": {},
   "outputs": [],
   "source": [
    "from sklearn.preprocessing import StandardScaler\n",
    "sc = StandardScaler()\n",
    "sc.fit(X_train)\n",
    "X_train_normalized = sc.transform(X_train)\n",
    "X_test_normalized = sc.transform(X_test)"
   ]
  },
  {
   "cell_type": "markdown",
   "metadata": {},
   "source": [
    "## 5.1.3訓練模型"
   ]
  },
  {
   "cell_type": "code",
   "execution_count": 26,
   "metadata": {},
   "outputs": [
    {
     "name": "stdout",
     "output_type": "stream",
     "text": [
      "各變項參數: [2463.86856833]\n",
      "MSE: 1187683.24\n",
      "R Square: 0.7275613687537759\n"
     ]
    },
    {
     "data": {
      "image/png": "[encoded data removed]",
      "text/plain": [
       "<Figure size 432x288 with 1 Axes>"
      ]
     },
     "metadata": {
      "needs_background": "light"
     },
     "output_type": "display_data"
    }
   ],
   "source": [
    "from sklearn import datasets, linear_model\n",
    "\n",
    "#SGDRegressor的input y需要一維矩陣type\n",
    "y_train_1d = y_train.values.ravel()\n",
    "y_test_1d = y_test.values.ravel()\n",
    "\n",
    "#linear regression\n",
    "sgdr = linear_model.SGDRegressor(max_iter=100, learning_rate='constant', eta0=0.001)\n",
    "\n",
    "#訓練模型\n",
    "sgdr.fit(X_train_normalized, y_train_1d)\n",
    "\n",
    "print('各變項參數:', sgdr.coef_)\n",
    "print(\"MSE: %.2f\" % np.mean((sgdr.predict(X_test_normalized) - y_test_1d) ** 2))\n",
    "print(\"R Square:\", sgdr.score(X_test_normalized, y_test_1d))\n",
    "\n",
    "plt.scatter(X_train['建物移轉總面積平方公尺'], y_train_1d, color='blue', marker='x')\n",
    "\n",
    "plt.plot(X_train, sgdr.predict(X_train_normalized), color='green', linewidth=1)\n",
    "\n",
    "plt.ylabel('總價元(10K)')\n",
    "plt.xlabel('建物移轉總面積平方公尺')\n",
    "\n",
    "plt.show()"
   ]
  },
  {
   "cell_type": "markdown",
   "metadata": {},
   "source": [
    "## 5.1.4 K折交叉驗證 (K-fold Cross-Validation) + 學習曲線 (Learning Curve)"
   ]
  },
  {
   "cell_type": "code",
   "execution_count": 27,
   "metadata": {},
   "outputs": [],
   "source": [
    "from sklearn.model_selection import learning_curve\n",
    "from sklearn.model_selection import ShuffleSplit\n",
    "\n",
    "def plot_learning_curve(estimator, title, X, y, ylim=None, cv=None,\n",
    "                        n_jobs=1, train_sizes=np.linspace(.1, 1.0, 5)):\n",
    "    \n",
    "    plt.figure(figsize=(10,6))  #調整作圖大小\n",
    "    plt.title(title)\n",
    "    if ylim is not None:\n",
    "        plt.ylim(*ylim)\n",
    "    plt.xlabel(\"Training examples\")\n",
    "    plt.ylabel(\"Score\")\n",
    "    train_sizes, train_scores, test_scores = learning_curve(\n",
    "        estimator, X, y, cv=cv, n_jobs=n_jobs, train_sizes=train_sizes)\n",
    "    train_scores_mean = np.mean(train_scores, axis=1)\n",
    "    train_scores_std = np.std(train_scores, axis=1)\n",
    "    test_scores_mean = np.mean(test_scores, axis=1)\n",
    "    test_scores_std = np.std(test_scores, axis=1)\n",
    "    plt.grid()\n",
    "\n",
    "    plt.fill_between(train_sizes, train_scores_mean - train_scores_std,\n",
    "                     train_scores_mean + train_scores_std, alpha=0.1,\n",
    "                     color=\"r\")\n",
    "    plt.fill_between(train_sizes, test_scores_mean - test_scores_std,\n",
    "                     test_scores_mean + test_scores_std, alpha=0.1, \n",
    "                     color=\"g\")\n",
    "    plt.plot(train_sizes, train_scores_mean, 'o-', color=\"r\",\n",
    "             label=\"Training score\")\n",
    "    plt.plot(train_sizes, test_scores_mean, 'o-', color=\"g\",\n",
    "             label=\"Cross-validation score\")\n",
    "\n",
    "    plt.legend(loc=\"best\")\n",
    "    return plt"
   ]
  },
  {
   "cell_type": "code",
   "execution_count": 28,
   "metadata": {},
   "outputs": [
    {
     "data": {
      "text/plain": [
       "<module 'matplotlib.pyplot' from 'c:\\\\users\\\\jeff\\\\ml_1\\\\pyds\\\\lib\\\\site-packages\\\\matplotlib\\\\pyplot.py'>"
      ]
     },
     "execution_count": 28,
     "metadata": {},
     "output_type": "execute_result"
    },
    {
     "data": {
      "image/png": "[encoded data removed]",
      "text/plain": [
       "<Figure size 720x432 with 1 Axes>"
      ]
     },
     "metadata": {
      "needs_background": "light"
     },
     "output_type": "display_data"
    }
   ],
   "source": [
    "from sklearn.model_selection import KFold,StratifiedKFold\n",
    "\n",
    "cv = KFold(n_splits=4, random_state=None, shuffle=True)\n",
    "estimator=linear_model.SGDRegressor(max_iter=1000, learning_rate='constant',\n",
    "                                   eta0=0.01)\n",
    "sc.fit(X_train)\n",
    "plot_learning_curve(estimator, \"SGDRegressor\", sc.transform(X), \n",
    "                    y.values.ravel(), cv=cv, \n",
    "                    train_sizes=np.linspace(.2, 1.0, 5))"
   ]
  },
  {
   "cell_type": "markdown",
   "metadata": {},
   "source": [
    "##  5.2 使用Scikit-Learn LinearRegression"
   ]
  },
  {
   "cell_type": "code",
   "execution_count": 29,
   "metadata": {},
   "outputs": [
    {
     "name": "stdout",
     "output_type": "stream",
     "text": [
      "各變項變數 [[2429.56604812]]\n",
      "MSE: 1156764.51\n",
      "R Square: 0.7346537113089795\n"
     ]
    },
    {
     "data": {
      "text/plain": [
       "[<matplotlib.lines.Line2D at 0x1b6d1208>]"
      ]
     },
     "execution_count": 29,
     "metadata": {},
     "output_type": "execute_result"
    },
    {
     "data": {
      "image/png": "[encoded data removed]",
      "text/plain": [
       "<Figure size 720x432 with 1 Axes>"
      ]
     },
     "metadata": {
      "needs_background": "light"
     },
     "output_type": "display_data"
    }
   ],
   "source": [
    "#liner regression\n",
    "regr = linear_model.LinearRegression()\n",
    "\n",
    "#訓練模型\n",
    "regr.fit(X_train_normalized, y_train)\n",
    "\n",
    "print('各變項變數', regr.coef_)\n",
    "print('MSE: %.2F' % np.mean((regr.predict(X_test_normalized)-y_test)**2))\n",
    "print('R Square:', regr.score(X_test_normalized, y_test))\n",
    "\n",
    "plt.figure(figsize=(10,6))\n",
    "plt.scatter(X_train, y_train, color='blue', marker='x')\n",
    "plt.plot(X_train, regr.predict(X_train_normalized), color='red', linewidth=1)"
   ]
  },
  {
   "cell_type": "code",
   "execution_count": 30,
   "metadata": {},
   "outputs": [
    {
     "data": {
      "text/plain": [
       "<module 'matplotlib.pyplot' from 'c:\\\\users\\\\jeff\\\\ml_1\\\\pyds\\\\lib\\\\site-packages\\\\matplotlib\\\\pyplot.py'>"
      ]
     },
     "execution_count": 30,
     "metadata": {},
     "output_type": "execute_result"
    },
    {
     "data": {
      "image/png": "[encoded data removed]",
      "text/plain": [
       "<Figure size 720x432 with 1 Axes>"
      ]
     },
     "metadata": {
      "needs_background": "light"
     },
     "output_type": "display_data"
    }
   ],
   "source": [
    "cv = KFold(n_splits=4, random_state=None, shuffle=True)\n",
    "estimator = linear_model.LinearRegression()\n",
    "\n",
    "sc.fit(X_train)\n",
    "plot_learning_curve(estimator, \"LinearRegression\", sc.transform(X), \n",
    "                    y.values.ravel(), cv=cv, train_sizes=np.linspace(0.2,1.0,5))"
   ]
  },
  {
   "cell_type": "markdown",
   "metadata": {},
   "source": [
    "## 六、多變項線性迴歸\n",
    "### 6.1 切分訓練及測試資料 (2 features)"
   ]
  },
  {
   "cell_type": "code",
   "execution_count": 31,
   "metadata": {},
   "outputs": [],
   "source": [
    "X = df_ml[['建物移轉總面積平方公尺','屋齡']]\n",
    "y = df_ml[['總價元']]"
   ]
  },
  {
   "cell_type": "code",
   "execution_count": 32,
   "metadata": {},
   "outputs": [
    {
     "data": {
      "text/html": [
       "<div>\n",
       "<style scoped>\n",
       "    .dataframe tbody tr th:only-of-type {\n",
       "        vertical-align: middle;\n",
       "    }\n",
       "\n",
       "    .dataframe tbody tr th {\n",
       "        vertical-align: top;\n",
       "    }\n",
       "\n",
       "    .dataframe thead th {\n",
       "        text-align: right;\n",
       "    }\n",
       "</style>\n",
       "<table border=\"1\" class=\"dataframe\">\n",
       "  <thead>\n",
       "    <tr style=\"text-align: right;\">\n",
       "      <th></th>\n",
       "      <th>建物移轉總面積平方公尺</th>\n",
       "      <th>屋齡</th>\n",
       "    </tr>\n",
       "  </thead>\n",
       "  <tbody>\n",
       "    <tr>\n",
       "      <th>370</th>\n",
       "      <td>108.32</td>\n",
       "      <td>39.0</td>\n",
       "    </tr>\n",
       "    <tr>\n",
       "      <th>295</th>\n",
       "      <td>161.64</td>\n",
       "      <td>3.0</td>\n",
       "    </tr>\n",
       "    <tr>\n",
       "      <th>591</th>\n",
       "      <td>75.35</td>\n",
       "      <td>34.0</td>\n",
       "    </tr>\n",
       "    <tr>\n",
       "      <th>486</th>\n",
       "      <td>84.35</td>\n",
       "      <td>36.0</td>\n",
       "    </tr>\n",
       "    <tr>\n",
       "      <th>332</th>\n",
       "      <td>18.46</td>\n",
       "      <td>42.0</td>\n",
       "    </tr>\n",
       "  </tbody>\n",
       "</table>\n",
       "</div>"
      ],
      "text/plain": [
       "     建物移轉總面積平方公尺    屋齡\n",
       "370       108.32  39.0\n",
       "295       161.64   3.0\n",
       "591        75.35  34.0\n",
       "486        84.35  36.0\n",
       "332        18.46  42.0"
      ]
     },
     "execution_count": 32,
     "metadata": {},
     "output_type": "execute_result"
    }
   ],
   "source": [
    "from sklearn.model_selection import train_test_split\n",
    "X_train, X_test, y_train, y_test = train_test_split(X,y,test_size=0.3)\n",
    "X_train.head()"
   ]
  },
  {
   "cell_type": "markdown",
   "metadata": {},
   "source": [
    "### 6.1 特徵標準化 (Standardization)"
   ]
  },
  {
   "cell_type": "code",
   "execution_count": 33,
   "metadata": {},
   "outputs": [],
   "source": [
    "from sklearn.preprocessing import StandardScaler\n",
    "sc = StandardScaler()\n",
    "sc.fit(X_train)\n",
    "X_train_normalized = sc.transform(X_train)\n",
    "X_test_normalized = sc.transform(X_test)"
   ]
  },
  {
   "cell_type": "markdown",
   "metadata": {},
   "source": [
    "### 6.2 使用Scikit-Learn LinearRegression"
   ]
  },
  {
   "cell_type": "code",
   "execution_count": 34,
   "metadata": {},
   "outputs": [
    {
     "name": "stdout",
     "output_type": "stream",
     "text": [
      "各變項參數: [[2381.0968451 -153.0243931]]\n",
      "MSE: 737126.83\n",
      "R Square: 0.8072454365955373\n"
     ]
    }
   ],
   "source": [
    "#linear regression\n",
    "regr = linear_model.LinearRegression()\n",
    "\n",
    "#訓練模型\n",
    "regr.fit(X_train_normalized, y_train)\n",
    "\n",
    "print(\"各變項參數:\", regr.coef_)\n",
    "print(\"MSE: %0.2f\" % np.mean((regr.predict(X_test_normalized) - y_test)**2))\n",
    "print(\"R Square:\", regr.score(X_test_normalized, y_test))"
   ]
  },
  {
   "cell_type": "code",
   "execution_count": 35,
   "metadata": {},
   "outputs": [
    {
     "data": {
      "text/plain": [
       "<module 'matplotlib.pyplot' from 'c:\\\\users\\\\jeff\\\\ml_1\\\\pyds\\\\lib\\\\site-packages\\\\matplotlib\\\\pyplot.py'>"
      ]
     },
     "execution_count": 35,
     "metadata": {},
     "output_type": "execute_result"
    },
    {
     "data": {
      "image/png": "[encoded data removed]",
      "text/plain": [
       "<Figure size 720x432 with 1 Axes>"
      ]
     },
     "metadata": {
      "needs_background": "light"
     },
     "output_type": "display_data"
    }
   ],
   "source": [
    "#k-fold cross validation + learning curve\n",
    "cv = KFold(n_splits=4, random_state=None, shuffle=True)\n",
    "estimater = linear_model.LinearRegression()\n",
    "\n",
    "sc.fit(X_train)\n",
    "plot_learning_curve(estimater, \"MultipleLinearRegression\", sc.transform(X), \n",
    "                    y.values.ravel(), cv=cv, train_sizes = np.linspace(0.2,1,5))"
   ]
  },
  {
   "cell_type": "markdown",
   "metadata": {},
   "source": [
    "### 6.3 使用Scikit-Learn SGDRegressor"
   ]
  },
  {
   "cell_type": "code",
   "execution_count": 36,
   "metadata": {},
   "outputs": [
    {
     "name": "stdout",
     "output_type": "stream",
     "text": [
      "各變項參數: [2170.37553836 -226.98763646]\n",
      "MSE: 744813.81\n",
      "R Square: 0.8052353329403984\n"
     ]
    }
   ],
   "source": [
    "#轉成1維array\n",
    "y_train_1d = y_train.values.ravel()\n",
    "y_test_1d = y_test.values.ravel()\n",
    "\n",
    "#SGD Regressor\n",
    "sgdr = linear_model.SGDRegressor(max_iter=1000, learning_rate='constant', eta0=0.01)\n",
    "\n",
    "#訓練模型\n",
    "sgdr.fit(X_train_normalized, y_train_1d)\n",
    "\n",
    "print('各變項參數:', sgdr.coef_)\n",
    "print(\"MSE: %.2f\" % np.mean((sgdr.predict(X_test_normalized) - y_test_1d) ** 2))\n",
    "print(\"R Square:\",sgdr.score(X_test_normalized,y_test_1d))"
   ]
  },
  {
   "cell_type": "code",
   "execution_count": 37,
   "metadata": {},
   "outputs": [
    {
     "data": {
      "text/plain": [
       "<module 'matplotlib.pyplot' from 'c:\\\\users\\\\jeff\\\\ml_1\\\\pyds\\\\lib\\\\site-packages\\\\matplotlib\\\\pyplot.py'>"
      ]
     },
     "execution_count": 37,
     "metadata": {},
     "output_type": "execute_result"
    },
    {
     "data": {
      "image/png": "[encoded data removed]",
      "text/plain": [
       "<Figure size 720x432 with 1 Axes>"
      ]
     },
     "metadata": {
      "needs_background": "light"
     },
     "output_type": "display_data"
    }
   ],
   "source": [
    "cv = KFold(n_splits=4, random_state=None, shuffle=True)\n",
    "#cv = ShuffleSplit(n_splits=3, random_state=None, test_size=0.3)\n",
    "estimator = linear_model.SGDRegressor(max_iter=1000,learning_rate='constant',eta0=0.01)\n",
    "\n",
    "plot_learning_curve(estimator, \"MultipleLinearRegression with SGD\", sc.transform(X), y.values.ravel(), cv=cv , train_sizes=np.linspace(0.2, 1.0, 5))"
   ]
  },
  {
   "cell_type": "markdown",
   "metadata": {},
   "source": [
    "## 七、多項式(Polynomial) 非線性迴歸¶\n",
    "### 切分訓練及測試資料 (1 feature)"
   ]
  },
  {
   "cell_type": "code",
   "execution_count": 38,
   "metadata": {},
   "outputs": [
    {
     "data": {
      "text/html": [
       "<div>\n",
       "<style scoped>\n",
       "    .dataframe tbody tr th:only-of-type {\n",
       "        vertical-align: middle;\n",
       "    }\n",
       "\n",
       "    .dataframe tbody tr th {\n",
       "        vertical-align: top;\n",
       "    }\n",
       "\n",
       "    .dataframe thead th {\n",
       "        text-align: right;\n",
       "    }\n",
       "</style>\n",
       "<table border=\"1\" class=\"dataframe\">\n",
       "  <thead>\n",
       "    <tr style=\"text-align: right;\">\n",
       "      <th></th>\n",
       "      <th>建物移轉總面積平方公尺</th>\n",
       "    </tr>\n",
       "  </thead>\n",
       "  <tbody>\n",
       "    <tr>\n",
       "      <th>603</th>\n",
       "      <td>51.23</td>\n",
       "    </tr>\n",
       "    <tr>\n",
       "      <th>372</th>\n",
       "      <td>578.75</td>\n",
       "    </tr>\n",
       "    <tr>\n",
       "      <th>376</th>\n",
       "      <td>36.03</td>\n",
       "    </tr>\n",
       "    <tr>\n",
       "      <th>586</th>\n",
       "      <td>167.33</td>\n",
       "    </tr>\n",
       "    <tr>\n",
       "      <th>3</th>\n",
       "      <td>136.20</td>\n",
       "    </tr>\n",
       "  </tbody>\n",
       "</table>\n",
       "</div>"
      ],
      "text/plain": [
       "     建物移轉總面積平方公尺\n",
       "603        51.23\n",
       "372       578.75\n",
       "376        36.03\n",
       "586       167.33\n",
       "3         136.20"
      ]
     },
     "execution_count": 38,
     "metadata": {},
     "output_type": "execute_result"
    }
   ],
   "source": [
    "from sklearn.model_selection import train_test_split\n",
    "X = df_ml[['建物移轉總面積平方公尺']]\n",
    "y = df_ml[['總價元']]\n",
    "X_train, X_test, y_train, y_test = train_test_split(X,y, test_size = 0.3) # 30% for testing, 70% for training\n",
    "X_train.head()"
   ]
  },
  {
   "cell_type": "markdown",
   "metadata": {},
   "source": [
    "### 創造高次方變項"
   ]
  },
  {
   "cell_type": "code",
   "execution_count": 39,
   "metadata": {},
   "outputs": [],
   "source": [
    "from sklearn.preprocessing import PolynomialFeatures\n",
    "\n",
    "PolyFeature = PolynomialFeatures(degree=2)\n",
    "X_train_raw = X_train.copy()\n",
    "X_test_raw = X_test.copy()\n",
    "X_train_poly = PolyFeature.fit_transform(X_train_raw) #產生x^0, x^1, x^2, x^3\n",
    "X_test_poly = PolyFeature.fit_transform(X_test_raw) #產生x^0, x^1, x^2, x^3\n"
   ]
  },
  {
   "cell_type": "code",
   "execution_count": 40,
   "metadata": {},
   "outputs": [
    {
     "name": "stdout",
     "output_type": "stream",
     "text": [
      "各變項參數: \n",
      " [[ 0.         13.07297984  0.01885101]]\n",
      "MSE: 1641208.41\n",
      "R Square: 0.49354421729178827\n"
     ]
    },
    {
     "data": {
      "image/png": "[encoded data removed]",
      "text/plain": [
       "<Figure size 720x432 with 1 Axes>"
      ]
     },
     "metadata": {
      "needs_background": "light"
     },
     "output_type": "display_data"
    }
   ],
   "source": [
    "#linear regression\n",
    "regr = linear_model.LinearRegression()\n",
    "\n",
    "#訓練模型\n",
    "regr.fit(X_train_poly, y_train)\n",
    "\n",
    "print('各變項參數: \\n', regr.coef_)\n",
    "print(\"MSE: %.2f\" % np.mean((regr.predict(X_test_poly) - y_test) ** 2))\n",
    "print(\"R Square:\",regr.score(X_test_poly, y_test))\n",
    "\n",
    "# Plot outputs\n",
    "plt.figure(figsize=(10,6))\n",
    "plt.scatter(X_test_raw, y_test,  color='blue', marker = 'x')\n",
    "\n",
    "X_fit = pd.DataFrame(np.arange(0,700,1)) #作圖用\n",
    "plt.plot(X_fit, regr.predict(PolyFeature.fit_transform(X_fit)), color='green', linewidth=1)\n",
    "\n",
    "\n",
    "plt.show()"
   ]
  },
  {
   "cell_type": "code",
   "execution_count": 41,
   "metadata": {},
   "outputs": [
    {
     "data": {
      "text/plain": [
       "<module 'matplotlib.pyplot' from 'c:\\\\users\\\\jeff\\\\ml_1\\\\pyds\\\\lib\\\\site-packages\\\\matplotlib\\\\pyplot.py'>"
      ]
     },
     "execution_count": 41,
     "metadata": {},
     "output_type": "execute_result"
    },
    {
     "data": {
      "image/png": "[encoded data removed]",
      "text/plain": [
       "<Figure size 720x432 with 1 Axes>"
      ]
     },
     "metadata": {
      "needs_background": "light"
     },
     "output_type": "display_data"
    }
   ],
   "source": [
    "# k-fold cross validation\n",
    "polyFeature = PolynomialFeatures(degree=2)\n",
    "X_raw = X.copy() #原始X_train\n",
    "X_poly = polyFeature.fit_transform(X_raw) \n",
    "\n",
    "cv = KFold(n_splits=4, random_state=None, shuffle=True)\n",
    "estimater = linear_model.LinearRegression()\n",
    "plot_learning_curve(estimater, 'Nonlinear Regression', X_poly, y, cv=cv, \n",
    "                    train_sizes=np.linspace(0.2, 1 ,5))"
   ]
  },
  {
   "cell_type": "code",
   "execution_count": null,
   "metadata": {},
   "outputs": [],
   "source": []
  },
  {
   "cell_type": "code",
   "execution_count": null,
   "metadata": {},
   "outputs": [],
   "source": []
  }
 ],
 "metadata": {
  "kernelspec": {
   "display_name": "Python 3",
   "language": "python",
   "name": "python3"
  },
  "language_info": {
   "codemirror_mode": {
    "name": "ipython",
    "version": 3
   },
   "file_extension": ".py",
   "mimetype": "text/x-python",
   "name": "python",
   "nbconvert_exporter": "python",
   "pygments_lexer": "ipython3",
   "version": "3.6.4"
  }
 },
 "nbformat": 4,
 "nbformat_minor": 2
}
